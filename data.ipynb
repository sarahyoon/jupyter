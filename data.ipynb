{
 "cells": [
  {
   "cell_type": "code",
   "execution_count": 17,
   "id": "615764cf-f9a7-4bf7-9365-46adec7941be",
   "metadata": {
    "scrolled": true
   },
   "outputs": [
    {
     "name": "stdout",
     "output_type": "stream",
     "text": [
      "Defaulting to user installation because normal site-packages is not writeable\n",
      "Collecting openpyxl\n",
      "  Downloading openpyxl-3.1.5-py2.py3-none-any.whl.metadata (2.5 kB)\n",
      "Collecting et-xmlfile (from openpyxl)\n",
      "  Downloading et_xmlfile-2.0.0-py3-none-any.whl.metadata (2.7 kB)\n",
      "Downloading openpyxl-3.1.5-py2.py3-none-any.whl (250 kB)\n",
      "Downloading et_xmlfile-2.0.0-py3-none-any.whl (18 kB)\n",
      "Installing collected packages: et-xmlfile, openpyxl\n",
      "Successfully installed et-xmlfile-2.0.0 openpyxl-3.1.5\n",
      "Note: you may need to restart the kernel to use updated packages.\n"
     ]
    }
   ],
   "source": [
    "pip install openpyxl"
   ]
  },
  {
   "cell_type": "code",
   "execution_count": 4,
   "id": "9a649b67-254c-43f7-9dda-fa91e73b1d61",
   "metadata": {},
   "outputs": [
    {
     "name": "stdout",
     "output_type": "stream",
     "text": [
      "{'E11': '혐오', 'E12': '슬픔', 'E13': '혐오', 'E15': '혐오', 'E17': '혐오', 'E18': '분노', 'E19': '혐오', 'E20': '슬픔', 'E21': '슬픔', 'E22': '슬픔', 'E24': '슬픔', 'E26': '슬픔', 'E27': '슬픔', 'E28': '슬픔', 'E29': '혐오', 'E30': '공포', 'E31': '공포', 'E32': '공포', 'E33': '공포', 'E34': '공포', 'E35': '공포', 'E37': '슬픔', 'E38': '슬픔', 'E39': '공포', 'E40': '슬픔', 'E41': '혐오', 'E42': '슬픔', 'E43': '슬픔', 'E44': '놀람', 'E48': '슬픔', 'E49': '슬픔', 'E50': '놀람', 'E51': '놀람', 'E52': '놀람', 'E53': '슬픔', 'E57': '혐오', 'E58': '혐오', 'E59': '놀람', 'E60': '행복', 'E61': '행복', 'E63': '행복', 'E64': '행복', 'E66': '행복', 'E67': '행복', 'E68': '행복'}\n"
     ]
    }
   ],
   "source": [
    "import csv\n",
    "\n",
    "emotion_idx = {}\n",
    "with open('index_edit.csv', 'r', encoding='UTF8') as file:\n",
    "    csv_reader = csv.reader(file) \n",
    "    next(csv_reader) # 첫 행 건너뛰기 \n",
    "    for row in csv_reader: # 두번째 행부터 행별로 읽기\n",
    "        emotion_idx[row[0].strip()] = row[1].strip()\n",
    "\n",
    "print(emotion_idx)"
   ]
  },
  {
   "cell_type": "code",
   "execution_count": 9,
   "id": "9ef60b40-d76b-4fd4-8569-31bdc15118a1",
   "metadata": {},
   "outputs": [
    {
     "name": "stdout",
     "output_type": "stream",
     "text": [
      "<class 'pandas.core.frame.DataFrame'>\n",
      "Index: 77818 entries, 0 to 39223\n",
      "Data columns (total 2 columns):\n",
      " #   Column    Non-Null Count  Dtype \n",
      "---  ------    --------------  ----- \n",
      " 0   Sentence  77818 non-null  object\n",
      " 1   Emotion   77818 non-null  object\n",
      "dtypes: object(2)\n",
      "memory usage: 1.8+ MB\n"
     ]
    }
   ],
   "source": [
    "import json\n",
    "import csv\n",
    "import pandas as pd\n",
    "\n",
    "data={'Sentence':[],\n",
    "     'Emotion':[]}\n",
    "\n",
    "emotion_idx = {}\n",
    "with open('index_edit.csv', 'r', encoding='UTF8') as file:\n",
    "    csv_reader = csv.reader(file) \n",
    "    next(csv_reader) # 첫 행 건너뛰기 \n",
    "    for row in csv_reader: # 두번째 행부터 행별로 읽기\n",
    "        emotion_idx[row[0].strip()] = row[1].strip()\n",
    "\n",
    "with open('conversation_training.json') as file:\n",
    "    cont = json.load(file)\n",
    "    for obj in cont:\n",
    "        e_idx = obj['profile']['emotion']['type']\n",
    "        talk = obj['talk']['content']\n",
    "        talk_list = list(talk.values())\n",
    "        sent = ''.join(talk_list).strip()\n",
    "        emot = ''\n",
    "        for key, value in emotion_idx.items():\n",
    "            #print(e_idx, key)\n",
    "            if key == e_idx and sent.count(' ')<=100:\n",
    "                #print(sent.count(' '))\n",
    "                emot = value\n",
    "                data['Sentence'].append(sent)\n",
    "                data['Emotion'].append(emot)\n",
    "\n",
    "df = pd.DataFrame(data)\n",
    "start = pd.read_excel('start.xlsx')\n",
    "\n",
    "total_train = pd.concat([start,df])\n",
    "\n",
    "total_train.info()\n",
    "total_train.to_csv('total_train.csv', index=False, encoding='utf-8-sig')\n",
    "\n",
    "        "
   ]
  },
  {
   "cell_type": "code",
   "execution_count": null,
   "id": "c58c7382-860a-4a42-91a2-21f7918d2ccd",
   "metadata": {},
   "outputs": [],
   "source": []
  },
  {
   "cell_type": "code",
   "execution_count": null,
   "id": "59f94386-c23d-4510-ad11-9be6d7029438",
   "metadata": {},
   "outputs": [],
   "source": []
  }
 ],
 "metadata": {
  "kernelspec": {
   "display_name": "Python 3 (ipykernel)",
   "language": "python",
   "name": "python3"
  },
  "language_info": {
   "codemirror_mode": {
    "name": "ipython",
    "version": 3
   },
   "file_extension": ".py",
   "mimetype": "text/x-python",
   "name": "python",
   "nbconvert_exporter": "python",
   "pygments_lexer": "ipython3",
   "version": "3.9.6"
  }
 },
 "nbformat": 4,
 "nbformat_minor": 5
}
