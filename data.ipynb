{
 "cells": [
  {
   "cell_type": "code",
   "execution_count": 10,
   "id": "615764cf-f9a7-4bf7-9365-46adec7941be",
   "metadata": {},
   "outputs": [
    {
     "name": "stdout",
     "output_type": "stream",
     "text": [
      "Defaulting to user installation because normal site-packages is not writeable\n",
      "Collecting pandas\n",
      "  Downloading pandas-2.2.3-cp39-cp39-macosx_10_9_x86_64.whl.metadata (89 kB)\n",
      "Requirement already satisfied: numpy>=1.22.4 in /Users/sarahyoon/Library/Python/3.9/lib/python/site-packages (from pandas) (1.26.4)\n",
      "Requirement already satisfied: python-dateutil>=2.8.2 in /Users/sarahyoon/Library/Python/3.9/lib/python/site-packages (from pandas) (2.9.0.post0)\n",
      "Collecting pytz>=2020.1 (from pandas)\n",
      "  Downloading pytz-2024.2-py2.py3-none-any.whl.metadata (22 kB)\n",
      "Collecting tzdata>=2022.7 (from pandas)\n",
      "  Downloading tzdata-2024.2-py2.py3-none-any.whl.metadata (1.4 kB)\n",
      "Requirement already satisfied: six>=1.5 in /Applications/Xcode.app/Contents/Developer/Library/Frameworks/Python3.framework/Versions/3.9/lib/python3.9/site-packages (from python-dateutil>=2.8.2->pandas) (1.15.0)\n",
      "Downloading pandas-2.2.3-cp39-cp39-macosx_10_9_x86_64.whl (12.6 MB)\n",
      "\u001b[2K   \u001b[90m━━━━━━━━━━━━━━━━━━━━━━━━━━━━━━━━━━━━━━━━\u001b[0m \u001b[32m12.6/12.6 MB\u001b[0m \u001b[31m28.6 MB/s\u001b[0m eta \u001b[36m0:00:00\u001b[0m00:01\u001b[0m0:01\u001b[0m\n",
      "\u001b[?25hDownloading pytz-2024.2-py2.py3-none-any.whl (508 kB)\n",
      "Downloading tzdata-2024.2-py2.py3-none-any.whl (346 kB)\n",
      "Installing collected packages: pytz, tzdata, pandas\n",
      "Successfully installed pandas-2.2.3 pytz-2024.2 tzdata-2024.2\n",
      "Note: you may need to restart the kernel to use updated packages.\n"
     ]
    }
   ],
   "source": [
    "pip install pandas"
   ]
  },
  {
   "cell_type": "code",
   "execution_count": 4,
   "id": "9a649b67-254c-43f7-9dda-fa91e73b1d61",
   "metadata": {},
   "outputs": [
    {
     "name": "stdout",
     "output_type": "stream",
     "text": [
      "{'E11': '툴툴대는', 'E12': '좌절한', 'E13': '짜증내는', 'E14': '방어적인', 'E15': '악의적인', 'E16': '안달하는', 'E17': '구역질 나는', 'E18': '노여워하는', 'E19': '성가신', 'E20': '슬픔', 'E21': '실망한', 'E22': '비통한', 'E23': '후회되는', 'E24': '우울한', 'E25': '마비된', 'E26': '염세적인', 'E27': '눈물이 나는', 'E28': '낙담한', 'E29': '환멸을 느끼는', 'E30': '불안', 'E31': '두려운', 'E32': '스트레스 받는', 'E33': '취약한', 'E34': '혼란스러운', 'E35': '당혹스러운', 'E36': '회의적인', 'E37': '걱정스러운', 'E38': '조심스러운', 'E39': '초조한', 'E40': '상처', 'E41': '질투하는', 'E42': '배신당한', 'E43': '고립된', 'E44': '충격 받은', 'E45': '가난한, 불우한', 'E46': '희생된', 'E47': '억울한', 'E48': '괴로워하는', 'E49': '버려진', 'E50': '당황', 'E51': '고립된(당황한)', 'E52': '남의 시선을 의식하는', 'E53': '외로운', 'E54': '열등감', 'E55': '죄책감의', 'E56': '부끄러운', 'E57': '혐오스러운', 'E58': '한심한', 'E59': '혼란스러운(당황한)', 'E60': '기쁨', 'E61': '감사하는', 'E62': '신뢰하는', 'E63': '편안한', 'E64': '만족스러운', 'E65': '흥분', 'E66': '느긋', 'E67': '안도', 'E68': '신이 난', 'E69': '자신하는', '': ''}\n"
     ]
    }
   ],
   "source": [
    "import csv\n",
    "\n",
    "emotion_idx = {}\n",
    "with open('index.csv', 'r', encoding='UTF8') as file:\n",
    "    csv_reader = csv.reader(file) \n",
    "    next(csv_reader) # 첫 행 건너뛰기 \n",
    "    for row in csv_reader: # 두번째 행부터 행별로 읽기\n",
    "        emotion_idx[row[1].strip()] = row[0].strip()\n",
    "\n",
    "print(emotion_idx)"
   ]
  },
  {
   "cell_type": "code",
   "execution_count": 12,
   "id": "9ef60b40-d76b-4fd4-8569-31bdc15118a1",
   "metadata": {},
   "outputs": [],
   "source": [
    "import json\n",
    "import csv\n",
    "import pandas as pd\n",
    "\n",
    "data={'Sentance':[],\n",
    "     'Emotion':[]}\n",
    "\n",
    "emotion_idx = {}\n",
    "with open('index.csv', 'r', encoding='UTF8') as file:\n",
    "    csv_reader = csv.reader(file) \n",
    "    next(csv_reader) # 첫 행 건너뛰기 \n",
    "    for row in csv_reader: # 두번째 행부터 행별로 읽기\n",
    "        emotion_idx[row[1].strip()] = row[0].strip()\n",
    "\n",
    "with open('conversation.json') as file:\n",
    "    cont = json.load(file)\n",
    "    for obj in cont:\n",
    "        e_idx = obj['profile']['emotion']['type']\n",
    "        talk = obj['talk']['content']\n",
    "        talk_list = list(talk.values())\n",
    "        sent = ''.join(talk_list).strip()\n",
    "        emot = ''\n",
    "        for key, value in emotion_idx.items():\n",
    "            #print(e_idx, key)\n",
    "            if key == e_idx:\n",
    "                emot = value\n",
    "        data['sentance'].append(sent)\n",
    "        data['emotion'].append(emot)\n",
    "\n",
    "df = pd.DataFrame(data)\n",
    "df.to_csv('examples.csv', index=False, encoding='utf-8-sig')\n",
    "\n",
    "        "
   ]
  },
  {
   "cell_type": "code",
   "execution_count": null,
   "id": "c58c7382-860a-4a42-91a2-21f7918d2ccd",
   "metadata": {},
   "outputs": [],
   "source": []
  }
 ],
 "metadata": {
  "kernelspec": {
   "display_name": "Python 3 (ipykernel)",
   "language": "python",
   "name": "python3"
  },
  "language_info": {
   "codemirror_mode": {
    "name": "ipython",
    "version": 3
   },
   "file_extension": ".py",
   "mimetype": "text/x-python",
   "name": "python",
   "nbconvert_exporter": "python",
   "pygments_lexer": "ipython3",
   "version": "3.9.6"
  }
 },
 "nbformat": 4,
 "nbformat_minor": 5
}
