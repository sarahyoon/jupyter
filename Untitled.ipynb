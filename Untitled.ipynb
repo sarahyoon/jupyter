{
 "cells": [
  {
   "cell_type": "code",
   "execution_count": 2,
   "id": "1c0681dd-72b2-486e-ac28-efaf3c10b1d8",
   "metadata": {},
   "outputs": [
    {
     "name": "stdout",
     "output_type": "stream",
     "text": [
      "Defaulting to user installation because normal site-packages is not writeable\n",
      "Collecting accelerate>=0.26.0\n",
      "  Downloading accelerate-1.1.1-py3-none-any.whl.metadata (19 kB)\n",
      "Requirement already satisfied: huggingface-hub>=0.21.0 in /Users/sarahyoon/Library/Python/3.9/lib/python/site-packages (from accelerate>=0.26.0) (0.26.2)\n",
      "Requirement already satisfied: numpy<3.0.0,>=1.17 in /Users/sarahyoon/Library/Python/3.9/lib/python/site-packages (from accelerate>=0.26.0) (1.26.4)\n",
      "Requirement already satisfied: packaging>=20.0 in /Users/sarahyoon/Library/Python/3.9/lib/python/site-packages (from accelerate>=0.26.0) (24.1)\n",
      "Requirement already satisfied: psutil in /Users/sarahyoon/Library/Python/3.9/lib/python/site-packages (from accelerate>=0.26.0) (6.1.0)\n",
      "Requirement already satisfied: pyyaml in /Users/sarahyoon/Library/Python/3.9/lib/python/site-packages (from accelerate>=0.26.0) (6.0.2)\n",
      "Requirement already satisfied: safetensors>=0.4.3 in /Users/sarahyoon/Library/Python/3.9/lib/python/site-packages (from accelerate>=0.26.0) (0.4.5)\n",
      "Requirement already satisfied: torch>=1.10.0 in /Users/sarahyoon/Library/Python/3.9/lib/python/site-packages (from accelerate>=0.26.0) (2.2.2)\n",
      "Requirement already satisfied: filelock in /Users/sarahyoon/Library/Python/3.9/lib/python/site-packages (from huggingface-hub>=0.21.0->accelerate>=0.26.0) (3.16.1)\n",
      "Requirement already satisfied: fsspec>=2023.5.0 in /Users/sarahyoon/Library/Python/3.9/lib/python/site-packages (from huggingface-hub>=0.21.0->accelerate>=0.26.0) (2024.10.0)\n",
      "Requirement already satisfied: requests in /Users/sarahyoon/Library/Python/3.9/lib/python/site-packages (from huggingface-hub>=0.21.0->accelerate>=0.26.0) (2.32.3)\n",
      "Requirement already satisfied: tqdm>=4.42.1 in /Users/sarahyoon/Library/Python/3.9/lib/python/site-packages (from huggingface-hub>=0.21.0->accelerate>=0.26.0) (4.67.0)\n",
      "Requirement already satisfied: typing-extensions>=3.7.4.3 in /Users/sarahyoon/Library/Python/3.9/lib/python/site-packages (from huggingface-hub>=0.21.0->accelerate>=0.26.0) (4.12.2)\n",
      "Requirement already satisfied: sympy in /Users/sarahyoon/Library/Python/3.9/lib/python/site-packages (from torch>=1.10.0->accelerate>=0.26.0) (1.13.3)\n",
      "Requirement already satisfied: networkx in /Users/sarahyoon/Library/Python/3.9/lib/python/site-packages (from torch>=1.10.0->accelerate>=0.26.0) (3.2.1)\n",
      "Requirement already satisfied: jinja2 in /Users/sarahyoon/Library/Python/3.9/lib/python/site-packages (from torch>=1.10.0->accelerate>=0.26.0) (3.1.4)\n",
      "Requirement already satisfied: MarkupSafe>=2.0 in /Users/sarahyoon/Library/Python/3.9/lib/python/site-packages (from jinja2->torch>=1.10.0->accelerate>=0.26.0) (3.0.2)\n",
      "Requirement already satisfied: charset-normalizer<4,>=2 in /Users/sarahyoon/Library/Python/3.9/lib/python/site-packages (from requests->huggingface-hub>=0.21.0->accelerate>=0.26.0) (3.4.0)\n",
      "Requirement already satisfied: idna<4,>=2.5 in /Users/sarahyoon/Library/Python/3.9/lib/python/site-packages (from requests->huggingface-hub>=0.21.0->accelerate>=0.26.0) (3.10)\n",
      "Requirement already satisfied: urllib3<3,>=1.21.1 in /Users/sarahyoon/Library/Python/3.9/lib/python/site-packages (from requests->huggingface-hub>=0.21.0->accelerate>=0.26.0) (1.26.15)\n",
      "Requirement already satisfied: certifi>=2017.4.17 in /Users/sarahyoon/Library/Python/3.9/lib/python/site-packages (from requests->huggingface-hub>=0.21.0->accelerate>=0.26.0) (2024.8.30)\n",
      "Requirement already satisfied: mpmath<1.4,>=1.1.0 in /Users/sarahyoon/Library/Python/3.9/lib/python/site-packages (from sympy->torch>=1.10.0->accelerate>=0.26.0) (1.3.0)\n",
      "Downloading accelerate-1.1.1-py3-none-any.whl (333 kB)\n",
      "Installing collected packages: accelerate\n",
      "\u001b[33m  WARNING: The scripts accelerate, accelerate-config, accelerate-estimate-memory, accelerate-launch and accelerate-merge-weights are installed in '/Users/sarahyoon/Library/Python/3.9/bin' which is not on PATH.\n",
      "  Consider adding this directory to PATH or, if you prefer to suppress this warning, use --no-warn-script-location.\u001b[0m\u001b[33m\n",
      "\u001b[0mSuccessfully installed accelerate-1.1.1\n",
      "Note: you may need to restart the kernel to use updated packages.\n"
     ]
    }
   ],
   "source": [
    "pip install 'accelerate>=0.26.0'"
   ]
  },
  {
   "cell_type": "code",
   "execution_count": 4,
   "id": "5a4c9cf2-d4ab-4ea2-9709-575bd4215b9b",
   "metadata": {},
   "outputs": [
    {
     "name": "stdout",
     "output_type": "stream",
     "text": [
      "CPU times: user 3 µs, sys: 1 µs, total: 4 µs\n",
      "Wall time: 6.91 µs\n"
     ]
    },
    {
     "data": {
      "text/plain": [
       "'네, 그럼 저녁 식사를 추천드리겠습니다. 예약하실 수 있는 곳'"
      ]
     },
     "execution_count": 4,
     "metadata": {},
     "output_type": "execute_result"
    }
   ],
   "source": [
    "from transformers import AutoModelForCausalLM, AutoTokenizer\n",
    "\n",
    "\n",
    "model_name = \"Qwen/Qwen2.5-0.5B-Instruct\"\n",
    "\n",
    "model = AutoModelForCausalLM.from_pretrained(\n",
    "    model_name,\n",
    "    torch_dtype=\"auto\",\n",
    "    device_map=\"auto\"\n",
    ")\n",
    "tokenizer = AutoTokenizer.from_pretrained(model_name)\n",
    "\n",
    "%time\n",
    "prompt = \"나 배고파 점심 추천해줘..\"\n",
    "messages = [\n",
    "    {\"role\": \"system\", \"content\": (\"사용자의 말을 듣고 '반응'에 따라 친절하게 대답하세요.\"\n",
    "                                  \"user: 나 너무 슬퍼요.\"\n",
    "                                   \"assistant: 참슬프겠어요\"\n",
    "                                  \n",
    "                                  )\n",
    "    \n",
    "    },\n",
    "    {\"role\": \"user\", \"content\": prompt}\n",
    "]\n",
    "text = tokenizer.apply_chat_template(\n",
    "    messages,\n",
    "    tokenize=False,\n",
    "    add_generation_prompt=True\n",
    ")\n",
    "model_inputs = tokenizer([text], return_tensors=\"pt\").to(model.device)\n",
    "\n",
    "generated_ids = model.generate(\n",
    "    **model_inputs,\n",
    "    max_new_tokens=20\n",
    ")\n",
    "generated_ids = [\n",
    "    output_ids[len(input_ids):] for input_ids, output_ids in zip(model_inputs.input_ids, generated_ids)\n",
    "]\n",
    "\n",
    "response = tokenizer.batch_decode(generated_ids, skip_special_tokens=True)[0]\n",
    "response"
   ]
  },
  {
   "cell_type": "code",
   "execution_count": null,
   "id": "ebafbed6-c9f5-4109-abec-1a4c3565790e",
   "metadata": {},
   "outputs": [],
   "source": []
  },
  {
   "cell_type": "code",
   "execution_count": null,
   "id": "105a4371-5a9c-4f57-99f7-0491a8567a74",
   "metadata": {},
   "outputs": [],
   "source": []
  },
  {
   "cell_type": "code",
   "execution_count": null,
   "id": "612f7ba0-43d3-4415-a62e-81e7ac479b01",
   "metadata": {},
   "outputs": [],
   "source": []
  }
 ],
 "metadata": {
  "kernelspec": {
   "display_name": "Python 3 (ipykernel)",
   "language": "python",
   "name": "python3"
  },
  "language_info": {
   "codemirror_mode": {
    "name": "ipython",
    "version": 3
   },
   "file_extension": ".py",
   "mimetype": "text/x-python",
   "name": "python",
   "nbconvert_exporter": "python",
   "pygments_lexer": "ipython3",
   "version": "3.9.6"
  }
 },
 "nbformat": 4,
 "nbformat_minor": 5
}
